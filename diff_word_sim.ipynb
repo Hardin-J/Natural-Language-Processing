{
 "cells": [
  {
   "attachments": {},
   "cell_type": "markdown",
   "metadata": {},
   "source": [
    "<h3>Different Word Similarity</h3>\n",
    "<h4>Cosine Similarity</h4>"
   ]
  },
  {
   "cell_type": "code",
   "execution_count": 5,
   "metadata": {},
   "outputs": [],
   "source": [
    "import re \n",
    "from collections import Counter\n",
    "import math\n"
   ]
  },
  {
   "cell_type": "code",
   "execution_count": 6,
   "metadata": {},
   "outputs": [],
   "source": [
    "def cal_cos(t1,t2):\n",
    "    def tk(t):\n",
    "        wrd = re.findall(r'\\w+',t.lower())\n",
    "        return Counter(wrd)\n",
    "    \n",
    "    vec1 = tk(t1)\n",
    "    vec2 = tk(t2)\n",
    "    interSection = set(vec1.keys()) & set(vec2.keys())\n",
    "\n",
    "    dot_pro = sum(vec1[word]*vec2[word] for word in interSection)\n",
    "    mag1 = math.sqrt(sum(vec1[word] ** 2 for word in vec1.keys()))\n",
    "    mag2 = math.sqrt(sum(vec2[word] ** 2 for word in vec2.keys()))\n",
    "\n",
    "    cos_sim = dot_pro / (mag1*mag2)\n",
    "    return cos_sim"
   ]
  },
  {
   "cell_type": "code",
   "execution_count": 7,
   "metadata": {},
   "outputs": [
    {
     "name": "stdout",
     "output_type": "stream",
     "text": [
      "Cosine Similarity: 0.6666666666666667\n"
     ]
    }
   ],
   "source": [
    "tx1 = \"I Love Apples\"\n",
    "tx2 = \"I like Apples\"\n",
    "\n",
    "sim = cal_cos(tx1,tx2)\n",
    "print(\"Cosine Similarity:\",sim)"
   ]
  },
  {
   "attachments": {},
   "cell_type": "markdown",
   "metadata": {},
   "source": [
    "<h3>Different Word Similarity</h3>\n",
    "<h4>Jaccard Similarity</h4>"
   ]
  },
  {
   "cell_type": "code",
   "execution_count": 1,
   "metadata": {},
   "outputs": [],
   "source": [
    "import re"
   ]
  },
  {
   "cell_type": "code",
   "execution_count": 2,
   "metadata": {},
   "outputs": [],
   "source": [
    "def calculate_jaccard_similarity(text1,text2):\n",
    "    def tokenize(text):\n",
    "        words = re.findall(r'\\w+', text.lower())\n",
    "        return set(words)\n",
    "\n",
    "    set1=tokenize(text1)\n",
    "    set2=tokenize(text2)\n",
    "\n",
    "    intersection = len(set1.intersection(set2))\n",
    "    union = len(set1.union(set2))\n",
    "    jaccard_similarity=intersection/union\n",
    "\n",
    "    return jaccard_similarity"
   ]
  },
  {
   "cell_type": "code",
   "execution_count": 4,
   "metadata": {},
   "outputs": [
    {
     "name": "stdout",
     "output_type": "stream",
     "text": [
      "Jaccard Similarity: 0.4\n"
     ]
    }
   ],
   "source": [
    "text1=\"I am in Madurai\"\n",
    "text2=\"I am Tamilan \"\n",
    "similarity=calculate_jaccard_similarity(text1, text2)\n",
    "print(\"Jaccard Similarity:\", similarity)"
   ]
  }
 ],
 "metadata": {
  "kernelspec": {
   "display_name": "Python 3",
   "language": "python",
   "name": "python3"
  },
  "language_info": {
   "codemirror_mode": {
    "name": "ipython",
    "version": 3
   },
   "file_extension": ".py",
   "mimetype": "text/x-python",
   "name": "python",
   "nbconvert_exporter": "python",
   "pygments_lexer": "ipython3",
   "version": "3.8.10"
  },
  "orig_nbformat": 4,
  "vscode": {
   "interpreter": {
    "hash": "916dbcbb3f70747c44a77c7bcd40155683ae19c65e1c03b4aa3499c5328201f1"
   }
  }
 },
 "nbformat": 4,
 "nbformat_minor": 2
}
